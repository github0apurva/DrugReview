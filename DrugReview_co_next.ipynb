{
  "nbformat": 4,
  "nbformat_minor": 0,
  "metadata": {
    "colab": {
      "name": "DrugReview_co_next.ipynb",
      "provenance": [],
      "collapsed_sections": [],
      "toc_visible": true,
      "authorship_tag": "ABX9TyNMZhqwkf4n/39CCyRTzjhZ",
      "include_colab_link": true
    },
    "kernelspec": {
      "name": "python3",
      "display_name": "Python 3"
    }
  },
  "cells": [
    {
      "cell_type": "markdown",
      "metadata": {
        "id": "view-in-github",
        "colab_type": "text"
      },
      "source": [
        "<a href=\"https://colab.research.google.com/github/github0apurva/DrugReview/blob/master/DrugReview_co_next.ipynb\" target=\"_parent\"><img src=\"https://colab.research.google.com/assets/colab-badge.svg\" alt=\"Open In Colab\"/></a>"
      ]
    },
    {
      "cell_type": "markdown",
      "metadata": {
        "id": "nf-zTOSQ2XTl",
        "colab_type": "text"
      },
      "source": [
        "# **IMPORTING RELEVANT LIBRARIES**"
      ]
    },
    {
      "cell_type": "code",
      "metadata": {
        "id": "fEiX7WEp2WlJ",
        "colab_type": "code",
        "colab": {
          "base_uri": "https://localhost:8080/",
          "height": 52
        },
        "outputId": "f05d557f-e239-447d-bd68-f021f82f33c7"
      },
      "source": [
        "import numpy as np\n",
        "np.random.seed(27)\n",
        "import time as tp\n",
        "import pandas as pd\n",
        "import matplotlib.pyplot as plt\n",
        "import seaborn as sns\n",
        "%matplotlib inline\n",
        "import tensorflow as tf\n",
        "\n",
        "import joblib\n",
        "from google.colab import files\n",
        "\n",
        "from tensorflow.keras import regularizers , Input \n",
        "from tensorflow.keras.callbacks import LearningRateScheduler\n",
        "from tensorflow.keras.layers import Embedding, Dense, Dropout, Activation, Flatten, concatenate, LSTM, Bidirectional, GRU\n",
        "from tensorflow.keras.models import load_model, Sequential\n",
        "from tensorflow.keras.optimizers import SGD, Adam"
      ],
      "execution_count": 2,
      "outputs": [
        {
          "output_type": "stream",
          "text": [
            "/usr/local/lib/python3.6/dist-packages/statsmodels/tools/_testing.py:19: FutureWarning: pandas.util.testing is deprecated. Use the functions in the public API at pandas.testing instead.\n",
            "  import pandas.util.testing as tm\n"
          ],
          "name": "stderr"
        }
      ]
    },
    {
      "cell_type": "markdown",
      "metadata": {
        "id": "IErcBxksG1Aa",
        "colab_type": "text"
      },
      "source": [
        "# **UPLOADING THE TRAIN & TEST DATA SAVED ON MY DRIVE**"
      ]
    },
    {
      "cell_type": "code",
      "metadata": {
        "id": "KIce_ImBEHFd",
        "colab_type": "code",
        "colab": {
          "base_uri": "https://localhost:8080/",
          "height": 125
        },
        "outputId": "fbd5798b-e5c7-4d8a-e6a1-d97c18ad8b15"
      },
      "source": [
        "from google.colab import drive\n",
        "drive.mount('/content/drive')"
      ],
      "execution_count": 3,
      "outputs": [
        {
          "output_type": "stream",
          "text": [
            "Go to this URL in a browser: https://accounts.google.com/o/oauth2/auth?client_id=947318989803-6bn6qk8qdgf4n4g3pfee6491hc0brc4i.apps.googleusercontent.com&redirect_uri=urn%3aietf%3awg%3aoauth%3a2.0%3aoob&response_type=code&scope=email%20https%3a%2f%2fwww.googleapis.com%2fauth%2fdocs.test%20https%3a%2f%2fwww.googleapis.com%2fauth%2fdrive%20https%3a%2f%2fwww.googleapis.com%2fauth%2fdrive.photos.readonly%20https%3a%2f%2fwww.googleapis.com%2fauth%2fpeopleapi.readonly\n",
            "\n",
            "Enter your authorization code:\n",
            "··········\n",
            "Mounted at /content/drive\n"
          ],
          "name": "stdout"
        }
      ]
    },
    {
      "cell_type": "code",
      "metadata": {
        "id": "u3ApOJKqpxtM",
        "colab_type": "code",
        "colab": {
          "base_uri": "https://localhost:8080/",
          "height": 123
        },
        "outputId": "28c5459c-7889-4bbf-ca22-720946aa1c46"
      },
      "source": [
        "!gsutil -m cp -r /content/drive/My\\ Drive/Data/E.pickle /content/\n",
        "!gsutil -m cp -r /content/drive/My\\ Drive/Data/R.pickle /content/"
      ],
      "execution_count": 5,
      "outputs": [
        {
          "output_type": "stream",
          "text": [
            "Copying file:///content/drive/My Drive/Data/E.pickle...\n",
            "/ [1/1 files][ 27.4 MiB/ 27.4 MiB] 100% Done                                    \n",
            "Operation completed over 1 objects/27.4 MiB.                                     \n",
            "Copying file:///content/drive/My Drive/Data/R.pickle...\n",
            "-\n",
            "Operation completed over 1 objects/86.6 MiB.                                     \n"
          ],
          "name": "stdout"
        }
      ]
    },
    {
      "cell_type": "code",
      "metadata": {
        "id": "fVl-dy3kkh_l",
        "colab_type": "code",
        "colab": {}
      },
      "source": [
        "seq_padded, train_aux, label3 = joblib.load('R.pickle')\n",
        "seq_padded_test, test_aux ,label3_test = joblib.load('E.pickle')"
      ],
      "execution_count": 0,
      "outputs": []
    },
    {
      "cell_type": "code",
      "metadata": {
        "id": "Bci1HSjL3P_6",
        "colab_type": "code",
        "outputId": "05e42f78-3681-4758-96ea-d455c53a0077",
        "colab": {
          "base_uri": "https://localhost:8080/",
          "height": 52
        }
      },
      "source": [
        "print ( seq_padded.shape , train_aux.shape , label3.shape)\n",
        "print ( seq_padded_test.shape , test_aux.shape , label3_test.shape)"
      ],
      "execution_count": 9,
      "outputs": [
        {
          "output_type": "stream",
          "text": [
            "(160398, 100) (160398, 25) (160398,)\n",
            "(53471, 100) (53471, 25) (53471,)\n"
          ],
          "name": "stdout"
        }
      ]
    },
    {
      "cell_type": "markdown",
      "metadata": {
        "id": "DRtFSD7mjulW",
        "colab_type": "text"
      },
      "source": [
        "# **UNDERSAMPLING: CLASS FREQUENCY BALANCE**"
      ]
    },
    {
      "cell_type": "code",
      "metadata": {
        "id": "14O_6kZBjoLy",
        "colab_type": "code",
        "colab": {
          "base_uri": "https://localhost:8080/",
          "height": 87
        },
        "outputId": "82eef3db-fbc8-473f-a9df-9cffeb98ce54"
      },
      "source": [
        "label3.value_counts()"
      ],
      "execution_count": 10,
      "outputs": [
        {
          "output_type": "execute_result",
          "data": {
            "text/plain": [
              "3    96915\n",
              "1    34848\n",
              "2    28635\n",
              "Name: rating_3, dtype: int64"
            ]
          },
          "metadata": {
            "tags": []
          },
          "execution_count": 10
        }
      ]
    },
    {
      "cell_type": "code",
      "metadata": {
        "id": "9sXaeGHoja7q",
        "colab_type": "code",
        "colab": {
          "base_uri": "https://localhost:8080/",
          "height": 87
        },
        "outputId": "e1bc1483-afb1-4e39-bd3e-aa3b276a3109"
      },
      "source": [
        "train_comp = pd.concat( (label3.reset_index(drop = True), pd.DataFrame(seq_padded) , train_aux.reset_index(drop = True) ), axis = 1 )\n",
        "train_comp.rating_3.value_counts()"
      ],
      "execution_count": 11,
      "outputs": [
        {
          "output_type": "execute_result",
          "data": {
            "text/plain": [
              "3    96915\n",
              "1    34848\n",
              "2    28635\n",
              "Name: rating_3, dtype: int64"
            ]
          },
          "metadata": {
            "tags": []
          },
          "execution_count": 11
        }
      ]
    },
    {
      "cell_type": "code",
      "metadata": {
        "id": "U8PpOY5VjsNC",
        "colab_type": "code",
        "colab": {
          "base_uri": "https://localhost:8080/",
          "height": 87
        },
        "outputId": "46737e58-c2f5-4241-d519-eb1064cbdf15"
      },
      "source": [
        "train_comp1 = train_comp[ train_comp.rating_3 == 1 ].sample(train_comp.rating_3.value_counts().min())\n",
        "train_comp2 = train_comp[ train_comp.rating_3 == 2 ].sample(train_comp.rating_3.value_counts().min())\n",
        "train_comp3 = train_comp[ train_comp.rating_3 == 3 ].sample(train_comp.rating_3.value_counts().min())\n",
        "\n",
        "train_comp = pd.concat( ( train_comp1 , train_comp2, train_comp3 ), axis = 0 )\n",
        "train_comp.rating_3.value_counts()"
      ],
      "execution_count": 12,
      "outputs": [
        {
          "output_type": "execute_result",
          "data": {
            "text/plain": [
              "3    28635\n",
              "2    28635\n",
              "1    28635\n",
              "Name: rating_3, dtype: int64"
            ]
          },
          "metadata": {
            "tags": []
          },
          "execution_count": 12
        }
      ]
    },
    {
      "cell_type": "code",
      "metadata": {
        "id": "n-QvSPtuj4E5",
        "colab_type": "code",
        "colab": {}
      },
      "source": [
        "label3_n = pd.Series( train_comp ['rating_3'] )\n",
        "seq_padded_n = np.array ((  train_comp.iloc [: , 1: -25 ] ))\n",
        "train_aux_n = train_comp.iloc [: , -25: ]\n",
        "del train_comp , train_comp1 , train_comp2 , train_comp3"
      ],
      "execution_count": 0,
      "outputs": []
    },
    {
      "cell_type": "code",
      "metadata": {
        "id": "nIK2LIRCj8Z5",
        "colab_type": "code",
        "colab": {
          "base_uri": "https://localhost:8080/",
          "height": 34
        },
        "outputId": "904ba9d2-a3e9-430e-8e4d-ce3623268f23"
      },
      "source": [
        "print ( seq_padded_n.shape , train_aux_n.shape , label3_n.shape)"
      ],
      "execution_count": 14,
      "outputs": [
        {
          "output_type": "stream",
          "text": [
            "(85905, 100) (85905, 25) (85905,)\n"
          ],
          "name": "stdout"
        }
      ]
    },
    {
      "cell_type": "markdown",
      "metadata": {
        "id": "OE2uXU0HHZw6",
        "colab_type": "text"
      },
      "source": [
        "# **MODEL PARAMETERS AND OBJECT**"
      ]
    },
    {
      "cell_type": "code",
      "metadata": {
        "id": "GYSnvooGGHhQ",
        "colab_type": "code",
        "colab": {}
      },
      "source": [
        "\n",
        "class Model_build:\n",
        "\n",
        "    def __init__ (self, typea, train_data, test_data, opti_type  ):\n",
        "        self.typea = typea\n",
        "        self.trainx , self.trainy = train_data\n",
        "        self.testx , self.testy = test_data\n",
        "        self.opti_type = opti_type\n",
        "\n",
        "    def find_lr (self, epochs = 100,  start_lr = 1e-5 , moment = 0.9 , met = 'SparseCategoricalCrossentropy' ) :\n",
        "      self.epochs = epochs\n",
        "      self.start_lr = start_lr\n",
        "      self.moment = moment\n",
        "      self.met = met\n",
        "      epoch_div =  int( - epochs /  np.log10(start_lr) )\n",
        "      # creating a time variable for calculating the total time taken to run the training and validation.\n",
        "      t = tp.time()\n",
        "      # defining the LR Schedule, experimenting with different learning rates\n",
        "      lr_schedule = LearningRateScheduler(lambda epoch: start_lr* 10 ** (epoch / epoch_div ))\n",
        "      # defining the optimizer\n",
        "      if self.opti_type == 'adam':\n",
        "          opti = Adam( lr = start_lr )\n",
        "      else:\n",
        "          opti = SGD( lr = start_lr , momentum = moment)\n",
        "      # Compiling the model\n",
        "      if self.typea == 'class':\n",
        "          model.compile( loss = 'sparse_categorical_crossentropy', optimizer = opti , metrics = [self.met] )\n",
        "      else:\n",
        "          model.compile( loss = 'mean_absolute_error', optimizer = opti, metrics = [self.met])\n",
        "      # Fitting the training data with simultaneously validating\n",
        "      self.find_hist = model.fit( self.trainx , self.trainy -1  , epochs = epochs , callbacks = [lr_schedule], verbose = 0, batch_size = param_mod['training_size'] )\n",
        "      t1 = tp.time() - t\n",
        "      print ( int ( t1 / 60 ) , \" minutes taken\" )\n",
        "      return self.find_hist\n",
        "\n",
        "    def plot_find_lr (self, uplim = 1 ):\n",
        "      plt.semilogx(self.find_hist.history[\"lr\"] , self.find_hist.history[\"loss\"] )\n",
        "      plt.axis([self.start_lr , self.find_hist.history[\"lr\"][-1], 0 , uplim])\n",
        "      plt.title('loss across epoch ')\n",
        "      return\n",
        "\n",
        "    def fixed_lr ( self, epochs = 20, sel_lr = 1e-6, moment = 0.9, met = ' ', beta_1 = 0.9, beta_2 = 0.999, epsilon=1e-07  ):\n",
        "      self.met_fix = met\n",
        "      if met == ' ':\n",
        "          self.met_fix = self.met\n",
        "      t = tp.time()\n",
        "      if self.opti_type == 'adam':\n",
        "          opti = Adam( lr = sel_lr , beta_1 = beta_1 , beta_2 = beta_2 , epsilon = epsilon  )\n",
        "      else:\n",
        "          opti = SGD( lr = sel_lr , momentum = moment)\n",
        "      # Compiling the model\n",
        "      if self.typea == 'class':\n",
        "          model.compile( loss = 'sparse_categorical_crossentropy', optimizer = opti , metrics = [self.met_fix] )\n",
        "      else:\n",
        "          model.compile( loss = 'mean_absolute_error', optimizer = opti , metrics = [self.met_fix] )\n",
        "      # Fitting the training data with simultaneously validating\n",
        "      self.hist = model.fit(self.trainx , self.trainy -1  , epochs = epochs , validation_data = ( self.testx, self.testy -1 ) , verbose = 1, batch_size = param_mod['training_size'] )\n",
        "      t1 = tp.time() - t\n",
        "      print ( int ( t1 / 60 ) , \" minutes taken\" )\n",
        "      return self.hist\n",
        "\n",
        "    def plot_fixed_lr (self, uplim = 1 ) :\n",
        "        met_use = self.met_fix\n",
        "        if self.met_fix == 'accuracy' and self.typea == 'reg':\n",
        "            met_use = 'acc'\n",
        "        plt.plot(np.array(self.hist.epoch)+1, self.hist.history[met_use], label = met_use )\n",
        "        plt.plot(np.array(self.hist.epoch)+1, self.hist.history['val_'+met_use], label = \"val_\"+ met_use )\n",
        "        plt.xlabel('epoch')\n",
        "        plt.axis([1 , self.hist.epoch[-1]+1 , 0 , uplim ])\n",
        "        plt.title(met_use +' across epoch ')\n",
        "        plt.legend()\n",
        "        plt.show()\n",
        "\n"
      ],
      "execution_count": 0,
      "outputs": []
    },
    {
      "cell_type": "code",
      "metadata": {
        "id": "XA9eyRxf5waC",
        "colab_type": "code",
        "colab": {}
      },
      "source": [
        "param_mod = {\n",
        "'input_shape' : seq_padded.shape[1],\n",
        "'aux_shape' : train_aux.shape[1],\n",
        "'embedding_dim' : 16 ,\n",
        "'training_size' : 1024,\n",
        "'vocab_size' : 5000 ,\n",
        "'max_length' : 100 ,\n",
        "'GLOVE_DIR' : 'C:/Users/Apurva/Desktop/CaseStudy',\n",
        "'GLOVE_FILE' : 'glove.840B.300d.txt'\n",
        "}"
      ],
      "execution_count": 0,
      "outputs": []
    },
    {
      "cell_type": "markdown",
      "metadata": {
        "id": "e19NZA3wH2MF",
        "colab_type": "text"
      },
      "source": [
        "# **MODEL STRUCTURE AND BUILDING**"
      ]
    },
    {
      "cell_type": "code",
      "metadata": {
        "id": "n78T7Q-kHYaR",
        "colab_type": "code",
        "outputId": "d72a5fb4-4562-4b45-845d-e9b913be95a9",
        "colab": {
          "base_uri": "https://localhost:8080/",
          "height": 390
        }
      },
      "source": [
        "tf.keras.backend.clear_session()\n",
        "\n",
        "prim_input = Input      ( shape =( param_mod['input_shape'] ) , name='prim')\n",
        "aux_input = Input       (shape=(param_mod['aux_shape'],), name='aux')\n",
        "feat_embed = Embedding  (param_mod['vocab_size'] ,param_mod['embedding_dim'] ,  input_length = param_mod['input_shape'] )(prim_input)\n",
        "feat_flat = Flatten     ()(feat_embed)\n",
        "feat_con = concatenate  ([feat_flat,aux_input])\n",
        "feat_sftm = Dense       (3,activation = 'softmax')(feat_con)\n",
        "\n",
        "model = tf.keras.Model(inputs=[prim_input, aux_input], outputs=[feat_sftm])\n",
        "model.summary()\n",
        " "
      ],
      "execution_count": 31,
      "outputs": [
        {
          "output_type": "stream",
          "text": [
            "Model: \"model\"\n",
            "__________________________________________________________________________________________________\n",
            "Layer (type)                    Output Shape         Param #     Connected to                     \n",
            "==================================================================================================\n",
            "prim (InputLayer)               [(None, 100)]        0                                            \n",
            "__________________________________________________________________________________________________\n",
            "embedding (Embedding)           (None, 100, 16)      80000       prim[0][0]                       \n",
            "__________________________________________________________________________________________________\n",
            "flatten (Flatten)               (None, 1600)         0           embedding[0][0]                  \n",
            "__________________________________________________________________________________________________\n",
            "aux (InputLayer)                [(None, 25)]         0                                            \n",
            "__________________________________________________________________________________________________\n",
            "concatenate (Concatenate)       (None, 1625)         0           flatten[0][0]                    \n",
            "                                                                 aux[0][0]                        \n",
            "__________________________________________________________________________________________________\n",
            "dense (Dense)                   (None, 3)            4878        concatenate[0][0]                \n",
            "==================================================================================================\n",
            "Total params: 84,878\n",
            "Trainable params: 84,878\n",
            "Non-trainable params: 0\n",
            "__________________________________________________________________________________________________\n"
          ],
          "name": "stdout"
        }
      ]
    },
    {
      "cell_type": "code",
      "metadata": {
        "id": "IGLf13pVIje-",
        "colab_type": "code",
        "outputId": "faf5410f-5187-4dca-c223-42ea48bb538c",
        "colab": {
          "base_uri": "https://localhost:8080/",
          "height": 34
        }
      },
      "source": [
        "model_build = Model_build ( typea = 'class' , train_data = ((seq_padded,train_aux),label3)   , test_data = ((seq_padded_test,test_aux),label3_test), opti_type = 'adam' )\n",
        "# finding the best learning rate\n",
        "f_hist = model_build.find_lr ( epochs = 10 , start_lr = 1e-5, met = 'accuracy')"
      ],
      "execution_count": 32,
      "outputs": [
        {
          "output_type": "stream",
          "text": [
            "0  minutes taken\n"
          ],
          "name": "stdout"
        }
      ]
    },
    {
      "cell_type": "code",
      "metadata": {
        "id": "xsM1kRwCKoGV",
        "colab_type": "code",
        "colab": {
          "base_uri": "https://localhost:8080/",
          "height": 284
        },
        "outputId": "e72579e0-2613-46de-895c-339e32e48830"
      },
      "source": [
        "# plotting the loss against learning rates\n",
        "model_build.plot_find_lr (100)"
      ],
      "execution_count": 33,
      "outputs": [
        {
          "output_type": "display_data",
          "data": {
            "image/png": "[encoded data removed]",
            "text/plain": [
              "<Figure size 432x288 with 1 Axes>"
            ]
          },
          "metadata": {
            "tags": [],
            "needs_background": "light"
          }
        }
      ]
    },
    {
      "cell_type": "code",
      "metadata": {
        "id": "0pjiAsdVKoPn",
        "colab_type": "code",
        "colab": {
          "base_uri": "https://localhost:8080/",
          "height": 212
        },
        "outputId": "d9186b40-6d35-48cb-b356-50b486d2951c"
      },
      "source": [
        "# Using the finalized learning rate\n",
        "hist = model_build.fixed_lr( epochs = 5 , sel_lr = 1*1e-2 )"
      ],
      "execution_count": 34,
      "outputs": [
        {
          "output_type": "stream",
          "text": [
            "Epoch 1/5\n",
            "157/157 [==============================] - 3s 20ms/step - loss: 21.9424 - accuracy: 0.7190 - val_loss: 21.2334 - val_accuracy: 0.6714\n",
            "Epoch 2/5\n",
            "157/157 [==============================] - 3s 20ms/step - loss: 10.2645 - accuracy: 0.7527 - val_loss: 14.2542 - val_accuracy: 0.6471\n",
            "Epoch 3/5\n",
            "157/157 [==============================] - 3s 21ms/step - loss: 5.8089 - accuracy: 0.7543 - val_loss: 10.9211 - val_accuracy: 0.6270\n",
            "Epoch 4/5\n",
            "157/157 [==============================] - 3s 21ms/step - loss: 3.6956 - accuracy: 0.7464 - val_loss: 9.5950 - val_accuracy: 0.5985\n",
            "Epoch 5/5\n",
            "157/157 [==============================] - 3s 20ms/step - loss: 2.6878 - accuracy: 0.7393 - val_loss: 8.2405 - val_accuracy: 0.6135\n",
            "0  minutes taken\n"
          ],
          "name": "stdout"
        }
      ]
    },
    {
      "cell_type": "code",
      "metadata": {
        "id": "0ESiAqhEi5cm",
        "colab_type": "code",
        "colab": {
          "base_uri": "https://localhost:8080/",
          "height": 372
        },
        "outputId": "6bfbbf60-bc89-4515-d1dc-ef75f8dbe3eb"
      },
      "source": [
        "hist.history"
      ],
      "execution_count": 29,
      "outputs": [
        {
          "output_type": "execute_result",
          "data": {
            "text/plain": [
              "{'accuracy': [0.7503647208213806,\n",
              "  0.7475218176841736,\n",
              "  0.7417424321174622,\n",
              "  0.7372785210609436,\n",
              "  0.7374094724655151],\n",
              " 'loss': [6.337673187255859,\n",
              "  3.647199869155884,\n",
              "  2.4880318641662598,\n",
              "  2.010040760040283,\n",
              "  1.6041380167007446],\n",
              " 'val_accuracy': [0.5842606425285339,\n",
              "  0.5793607831001282,\n",
              "  0.6109105944633484,\n",
              "  0.5773409605026245,\n",
              "  0.5970712900161743],\n",
              " 'val_loss': [11.210371971130371,\n",
              "  8.825387001037598,\n",
              "  7.330904483795166,\n",
              "  7.290607452392578,\n",
              "  6.991600513458252]}"
            ]
          },
          "metadata": {
            "tags": []
          },
          "execution_count": 29
        }
      ]
    },
    {
      "cell_type": "code",
      "metadata": {
        "id": "TTJYqoVmKvZX",
        "colab_type": "code",
        "colab": {
          "base_uri": "https://localhost:8080/",
          "height": 294
        },
        "outputId": "8c748425-741f-4023-9d95-c9797a9bfd6a"
      },
      "source": [
        "# plotting the mae across all epochs\n",
        "model_build.plot_fixed_lr()"
      ],
      "execution_count": 35,
      "outputs": [
        {
          "output_type": "display_data",
          "data": {
            "image/png": "[encoded data removed]",
            "text/plain": [
              "<Figure size 432x288 with 1 Axes>"
            ]
          },
          "metadata": {
            "tags": [],
            "needs_background": "light"
          }
        }
      ]
    },
    {
      "cell_type": "code",
      "metadata": {
        "id": "VXpAgI46Kx04",
        "colab_type": "code",
        "colab": {
          "base_uri": "https://localhost:8080/",
          "height": 167
        },
        "outputId": "f1a982e2-ab5a-4f37-e9b4-2aa05dba17ba"
      },
      "source": [
        "train_pred = np.argmax( model.predict ( ( seq_padded , train_aux )), axis=1) +1\n",
        "pd.crosstab(train_pred, label3)"
      ],
      "execution_count": 37,
      "outputs": [
        {
          "output_type": "execute_result",
          "data": {
            "text/html": [
              "<div>\n",
              "<style scoped>\n",
              "    .dataframe tbody tr th:only-of-type {\n",
              "        vertical-align: middle;\n",
              "    }\n",
              "\n",
              "    .dataframe tbody tr th {\n",
              "        vertical-align: top;\n",
              "    }\n",
              "\n",
              "    .dataframe thead th {\n",
              "        text-align: right;\n",
              "    }\n",
              "</style>\n",
              "<table border=\"1\" class=\"dataframe\">\n",
              "  <thead>\n",
              "    <tr style=\"text-align: right;\">\n",
              "      <th>rating_3</th>\n",
              "      <th>1</th>\n",
              "      <th>2</th>\n",
              "      <th>3</th>\n",
              "    </tr>\n",
              "    <tr>\n",
              "      <th>row_0</th>\n",
              "      <th></th>\n",
              "      <th></th>\n",
              "      <th></th>\n",
              "    </tr>\n",
              "  </thead>\n",
              "  <tbody>\n",
              "    <tr>\n",
              "      <th>1</th>\n",
              "      <td>27750</td>\n",
              "      <td>7710</td>\n",
              "      <td>6742</td>\n",
              "    </tr>\n",
              "    <tr>\n",
              "      <th>2</th>\n",
              "      <td>996</td>\n",
              "      <td>5701</td>\n",
              "      <td>2119</td>\n",
              "    </tr>\n",
              "    <tr>\n",
              "      <th>3</th>\n",
              "      <td>6102</td>\n",
              "      <td>15224</td>\n",
              "      <td>88054</td>\n",
              "    </tr>\n",
              "  </tbody>\n",
              "</table>\n",
              "</div>"
            ],
            "text/plain": [
              "rating_3      1      2      3\n",
              "row_0                        \n",
              "1         27750   7710   6742\n",
              "2           996   5701   2119\n",
              "3          6102  15224  88054"
            ]
          },
          "metadata": {
            "tags": []
          },
          "execution_count": 37
        }
      ]
    },
    {
      "cell_type": "code",
      "metadata": {
        "id": "P02bW7tUK0YU",
        "colab_type": "code",
        "colab": {
          "base_uri": "https://localhost:8080/",
          "height": 167
        },
        "outputId": "e781833f-8540-40a9-a314-63dc74404f84"
      },
      "source": [
        "train_pred = np.argmax( model.predict ( ( seq_padded_test , test_aux )), axis=1) +1\n",
        "pd.crosstab(train_pred, label3_test )"
      ],
      "execution_count": 38,
      "outputs": [
        {
          "output_type": "execute_result",
          "data": {
            "text/html": [
              "<div>\n",
              "<style scoped>\n",
              "    .dataframe tbody tr th:only-of-type {\n",
              "        vertical-align: middle;\n",
              "    }\n",
              "\n",
              "    .dataframe tbody tr th {\n",
              "        vertical-align: top;\n",
              "    }\n",
              "\n",
              "    .dataframe thead th {\n",
              "        text-align: right;\n",
              "    }\n",
              "</style>\n",
              "<table border=\"1\" class=\"dataframe\">\n",
              "  <thead>\n",
              "    <tr style=\"text-align: right;\">\n",
              "      <th>rating_3</th>\n",
              "      <th>1</th>\n",
              "      <th>2</th>\n",
              "      <th>3</th>\n",
              "    </tr>\n",
              "    <tr>\n",
              "      <th>row_0</th>\n",
              "      <th></th>\n",
              "      <th></th>\n",
              "      <th></th>\n",
              "    </tr>\n",
              "  </thead>\n",
              "  <tbody>\n",
              "    <tr>\n",
              "      <th>1</th>\n",
              "      <td>7054</td>\n",
              "      <td>2962</td>\n",
              "      <td>3357</td>\n",
              "    </tr>\n",
              "    <tr>\n",
              "      <th>2</th>\n",
              "      <td>2737</td>\n",
              "      <td>2194</td>\n",
              "      <td>5261</td>\n",
              "    </tr>\n",
              "    <tr>\n",
              "      <th>3</th>\n",
              "      <td>1995</td>\n",
              "      <td>4354</td>\n",
              "      <td>23557</td>\n",
              "    </tr>\n",
              "  </tbody>\n",
              "</table>\n",
              "</div>"
            ],
            "text/plain": [
              "rating_3     1     2      3\n",
              "row_0                      \n",
              "1         7054  2962   3357\n",
              "2         2737  2194   5261\n",
              "3         1995  4354  23557"
            ]
          },
          "metadata": {
            "tags": []
          },
          "execution_count": 38
        }
      ]
    }
  ]
}